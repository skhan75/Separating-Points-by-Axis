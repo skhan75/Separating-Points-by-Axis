{
 "cells": [
  {
   "cell_type": "code",
   "execution_count": 541,
   "metadata": {
    "collapsed": true
   },
   "outputs": [],
   "source": [
    "import matplotlib.pyplot as plt\n",
    "from math import log\n",
    "from operator import itemgetter\n",
    "import networkx as nx\n",
    "import numpy as np\n",
    "import matplotlib.pyplot as plt\n",
    "import os\n",
    "import glob"
   ]
  },
  {
   "cell_type": "code",
   "execution_count": 542,
   "metadata": {
    "collapsed": false
   },
   "outputs": [],
   "source": [
    "# Reading Text File\n",
    "def read_file(files): \n",
    "    print(files)\n",
    "    for f in files:\n",
    "        with open(f) as fl:\n",
    "            text = fl.read().split('\\n')\n",
    "\n",
    "    # Reading points from text file\n",
    "\n",
    "    n = int(text[0]) # Number of points in the file\n",
    "    points = []\n",
    "    for t in text[1:]:\n",
    "        x = int(t.split(' ')[0])\n",
    "        y = int(t.split(' ')[1])\n",
    "        points.append((x,y))\n",
    "    return points"
   ]
  },
  {
   "cell_type": "code",
   "execution_count": 543,
   "metadata": {
    "collapsed": false
   },
   "outputs": [],
   "source": [
    "def create_pairs(points):\n",
    "    U = [] #Containing pairs of all the points\n",
    "    for i in range(0,len(points)):\n",
    "        for j in range(i+1, len(points)):\n",
    "            U.append((points[i],points[j]))\n",
    "    #separate_points(U)\n",
    "    #print (res)\n",
    "    return U"
   ]
  },
  {
   "cell_type": "code",
   "execution_count": 544,
   "metadata": {
    "collapsed": false
   },
   "outputs": [],
   "source": [
    "def separate_points(U):\n",
    "    vAxis = []\n",
    "    hAxis = []\n",
    "\n",
    "    for i in range(1,n):\n",
    "        vAxis.append(i+0.5)\n",
    "        hAxis.append(i+0.5)\n",
    "\n",
    "\n",
    "    S = [] # Solution set\n",
    "    while U!=None:\n",
    "        count_cutting_V = {} # Number of pairs cut by all vertical axis, stored as key-value\n",
    "        pairs_per_axis_V = {} # Total pairs per vertical axis\n",
    "        count_cutting_H = {} # Number of pairs cut by all horizontal axis, stored as key-value\n",
    "        pairs_per_axis_H = {} # Total pairs per horizontal axis\n",
    "        max1 = 0\n",
    "        ver  = [0,0] \n",
    "        hor  = [0,0]\n",
    "        max2 = 0\n",
    "        U_removed = []\n",
    "        \n",
    "        if len(U) == 0:\n",
    "            break\n",
    "            \n",
    "        for v in vAxis:\n",
    "            count = 0  \n",
    "            for u in U: \n",
    "                if(u[0][0] <v and u[1][0] > v):\n",
    "                    count += 1\n",
    "            if(count >= max1):\n",
    "                max1 = count\n",
    "                ver[1] = v\n",
    "                ver[0] = max1\n",
    "            count_cutting_V.setdefault(v, []).append(count)\n",
    "        \n",
    "        for h in hAxis:\n",
    "            count = 0\n",
    "            for u in U:\n",
    "                if((u[0][1] - h) * (u[1][1] - h) < 0):\n",
    "                    count += 1\n",
    "            if(count >= max2):\n",
    "                max2 = count\n",
    "                hor[1] = h\n",
    "                hor[0] = max2\n",
    "            count_cutting_H.setdefault(h, []).append(count)\n",
    "\n",
    "        \n",
    "        if(ver[0] > hor[0]):\n",
    "            S.append('v '+str(ver[1]))\n",
    "            for u in U: \n",
    "                if(((u[0][0] - ver[1]) * (u[1][0] - ver[1])) < 0):\n",
    "                    U_removed.append(u)\n",
    "            vAxis.remove(ver[1])\n",
    "\n",
    "        else:\n",
    "            S.append('h '+str(hor[1]))\n",
    "            for u in U:\n",
    "                if(((u[0][1] - hor[1]) * (u[1][1] - hor[1])) < 0):\n",
    "                    U_removed.append(u)\n",
    "            hAxis.remove(hor[1])\n",
    "\n",
    "        for u in U_removed:\n",
    "            U.remove(u)\n",
    "\n",
    "    return S"
   ]
  },
  {
   "cell_type": "code",
   "execution_count": 545,
   "metadata": {
    "collapsed": false
   },
   "outputs": [],
   "source": [
    "def main():\n",
    "    files = glob.glob('input/*.txt')\n",
    "    points = read_file(files)\n",
    "    S = separate_points(create_pairs(points)) \n",
    "    print(S)"
   ]
  },
  {
   "cell_type": "code",
   "execution_count": 546,
   "metadata": {
    "collapsed": false
   },
   "outputs": [
    {
     "name": "stdout",
     "output_type": "stream",
     "text": [
      "['input/instance01.txt']\n",
      "['h 5.5', 'v 5.5', 'h 8.5', 'h 2.5', 'h 7.5', 'h 4.5']\n"
     ]
    }
   ],
   "source": [
    "if __name__ == \"__main__\":\n",
    "    main()"
   ]
  },
  {
   "cell_type": "code",
   "execution_count": null,
   "metadata": {
    "collapsed": true
   },
   "outputs": [],
   "source": []
  }
 ],
 "metadata": {
  "kernelspec": {
   "display_name": "Python [default]",
   "language": "python",
   "name": "python3"
  },
  "language_info": {
   "codemirror_mode": {
    "name": "ipython",
    "version": 3
   },
   "file_extension": ".py",
   "mimetype": "text/x-python",
   "name": "python",
   "nbconvert_exporter": "python",
   "pygments_lexer": "ipython3",
   "version": "3.5.2"
  }
 },
 "nbformat": 4,
 "nbformat_minor": 1
}
